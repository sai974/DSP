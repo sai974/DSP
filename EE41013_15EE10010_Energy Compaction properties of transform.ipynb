{
 "cells": [
  {
   "cell_type": "code",
   "execution_count": 1,
   "metadata": {},
   "outputs": [],
   "source": [
    "import numpy as np\n",
    "import matplotlib.pyplot as plt\n",
    "from time import time\n",
    "% matplotlib inline\n",
    "pi = np.pi"
   ]
  },
  {
   "cell_type": "code",
   "execution_count": 2,
   "metadata": {},
   "outputs": [],
   "source": [
    "def rela1(x,l):\n",
    "    n = len(x.T)\n",
    "    t = x\n",
    "    for i in range(n):\n",
    "        if i in range(int(np.ceil((n+1-l)/2)), 1+(n-1+l)//2):\n",
    "            t[0,i]=0\n",
    "    return t"
   ]
  },
  {
   "cell_type": "code",
   "execution_count": 3,
   "metadata": {},
   "outputs": [],
   "source": [
    "def rela(x,l):\n",
    "    n = len(x.T)\n",
    "    t = x\n",
    "    for i in range(n-l,n):\n",
    "        t[0,i]=0\n",
    "    return t"
   ]
  },
  {
   "cell_type": "code",
   "execution_count": 4,
   "metadata": {},
   "outputs": [],
   "source": [
    "def DCT_mat(xu):\n",
    "    n = len(xu.T)\n",
    "    a = np.zeros(shape=(n,n))\n",
    "    for i in range(n):\n",
    "        a[i] = np.cos(np.pi*(2*np.arange(n)+1)*i/(2*n))\n",
    "    a = 2*a\n",
    "    return a.dot(xu.reshape(-1,1)).reshape([1,-1])"
   ]
  },
  {
   "cell_type": "code",
   "execution_count": 5,
   "metadata": {},
   "outputs": [],
   "source": [
    "def IDCT_mat(xu):\n",
    "    n = len(xu.T)\n",
    "    a = np.zeros(shape=(n,n))\n",
    "    for i in range(n):\n",
    "        p = np.cos(np.pi*(2*np.arange(n)+1)*i/(2*n))/(n)\n",
    "        a[i] = p\n",
    "    a[0] = 0.5*a[0]\n",
    "    a=a.T\n",
    "\n",
    "    return a.dot(xu.reshape([-1,1])).reshape([1,-1])"
   ]
  },
  {
   "cell_type": "code",
   "execution_count": 6,
   "metadata": {},
   "outputs": [],
   "source": [
    "def haarMatrix(n):\n",
    "    # Allow only size n of power 2\n",
    "    n = 2**np.ceil(np.log2(n))\n",
    "    if n > 2:\n",
    "        h = haarMatrix(n / 2)\n",
    "    else:\n",
    "        return np.array([[1, 1], [1, -1]])\n",
    "\n",
    "    # calculate upper haar part\n",
    "    h_n = np.kron(h, [1, 1])\n",
    "    # calculate lower haar part \n",
    "    normalized = True\n",
    "    if normalized:\n",
    "        h_i = np.sqrt(n/2)*np.kron(np.eye(len(h)), [1, -1])\n",
    "    else:\n",
    "        h_i = np.kron(np.eye(len(h)), [1, -1])\n",
    "    # combine parts\n",
    "    h = np.vstack((h_n, h_i))\n",
    "    return h"
   ]
  },
  {
   "cell_type": "code",
   "execution_count": 7,
   "metadata": {},
   "outputs": [],
   "source": [
    "def haar_mat(xu):\n",
    "    n = len(xu.T)\n",
    "    h = haarMatrix(n)\n",
    "    return h.dot(xu.reshape([-1,1])).reshape([1,-1])\n",
    "    "
   ]
  },
  {
   "cell_type": "code",
   "execution_count": 8,
   "metadata": {},
   "outputs": [],
   "source": [
    "def haar_inv_mat(xu):\n",
    "    n = len(xu.T)\n",
    "    h = (haarMatrix(n)/n).transpose()\n",
    "    return (h.dot(xu.reshape([-1,1]))).reshape([1,-1])"
   ]
  },
  {
   "cell_type": "code",
   "execution_count": 9,
   "metadata": {},
   "outputs": [],
   "source": [
    "def DFT_mat(x):\n",
    "    N = len(x.T)\n",
    "    Wn = np.exp(-2J*np.pi/N)\n",
    "    l_w = Wn**np.arange(N)\n",
    "    D = (l_w.reshape(-1,1))**np.arange(N)\n",
    "    return D.dot(x.reshape([-1,1])).reshape([1,-1])"
   ]
  },
  {
   "cell_type": "code",
   "execution_count": 10,
   "metadata": {},
   "outputs": [],
   "source": [
    "def IDFT_mat(x):\n",
    "    N = len(x.T)\n",
    "    Wn = np.exp(-2J*np.pi/N)\n",
    "    l_w = Wn**np.arange(0, -N, -1)\n",
    "    D = (l_w.reshape(-1,1))**np.arange(N)/N\n",
    "    return D.dot(x.reshape([-1,1])).reshape([1,-1])"
   ]
  },
  {
   "cell_type": "code",
   "execution_count": 11,
   "metadata": {},
   "outputs": [],
   "source": [
    "def mse(x):\n",
    "    return (np.sum((x**2)/len(x.T)))"
   ]
  },
  {
   "cell_type": "code",
   "execution_count": 12,
   "metadata": {},
   "outputs": [],
   "source": [
    "def diff(x,y):\n",
    "    return(x-y)"
   ]
  },
  {
   "cell_type": "code",
   "execution_count": 14,
   "metadata": {},
   "outputs": [
    {
     "name": "stderr",
     "output_type": "stream",
     "text": [
      "C:\\software\\Anaconda3\\lib\\site-packages\\numpy\\core\\numeric.py:492: ComplexWarning: Casting complex values to real discards the imaginary part\n",
      "  return array(a, dtype, copy=False, order=order)\n"
     ]
    },
    {
     "data": {
      "text/plain": [
       "[<matplotlib.lines.Line2D at 0x1bd38e9cdd8>]"
      ]
     },
     "execution_count": 14,
     "metadata": {},
     "output_type": "execute_result"
    },
    {
     "data": {
      "image/png": "[encoded data removed]",
      "text/plain": [
       "<Figure size 432x288 with 1 Axes>"
      ]
     },
     "metadata": {},
     "output_type": "display_data"
    }
   ],
   "source": [
    "error_dct = []\n",
    "error_dft = []\n",
    "error_haar = []\n",
    "N = 128\n",
    "x =np.random.randint(10,size = N).reshape([1,-1])\n",
    "y_dct = DCT_mat(x)\n",
    "y_haar = haar_mat(x)\n",
    "y_dft = DFT_mat(x)\n",
    "for t in range(N):\n",
    "    temp_dct = rela(y_dct,t)\n",
    "    temp_dft = rela1(y_dft,t)\n",
    "    temp_haar = rela(y_haar,t)\n",
    "    z_dct = IDCT_mat(temp_dct)\n",
    "    error_dct.append(mse(diff(z_dct.reshape(-1,1),x.reshape(-1,1))))\n",
    "    z_dft = IDFT_mat(temp_dft)\n",
    "    error_dft.append(mse(diff(z_dft.reshape(-1,1),x.reshape(-1,1))))\n",
    "    z_haar = haar_inv_mat(temp_haar)\n",
    "    error_haar.append(mse(diff(z_haar.reshape(-1,1),x.reshape(-1,1))))\n",
    "\n",
    "plt.semilogx(error_haar,'r')\n",
    "plt.semilogx(error_dct,'b')\n",
    "plt.semilogx(error_dft,'g')\n",
    "\n"
   ]
  },
  {
   "cell_type": "code",
   "execution_count": null,
   "metadata": {},
   "outputs": [],
   "source": []
  }
 ],
 "metadata": {
  "kernelspec": {
   "display_name": "Python 3",
   "language": "python",
   "name": "python3"
  },
  "language_info": {
   "codemirror_mode": {
    "name": "ipython",
    "version": 3
   },
   "file_extension": ".py",
   "mimetype": "text/x-python",
   "name": "python",
   "nbconvert_exporter": "python",
   "pygments_lexer": "ipython3",
   "version": "3.6.5"
  }
 },
 "nbformat": 4,
 "nbformat_minor": 2
}
